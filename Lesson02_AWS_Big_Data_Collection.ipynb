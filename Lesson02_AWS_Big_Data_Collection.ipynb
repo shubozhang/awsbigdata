{
 "cells": [
  {
   "cell_type": "markdown",
   "metadata": {
    "colab_type": "text",
    "id": "view-in-github"
   },
   "source": [
    "<a href=\"https://colab.research.google.com/github/paiml/awsbigdata/blob/master/Lesson2_AWS_Big_Data_Collection.ipynb\" target=\"_parent\"><img src=\"https://colab.research.google.com/assets/colab-badge.svg\" alt=\"Open In Colab\"/></a>"
   ]
  },
  {
   "cell_type": "markdown",
   "metadata": {
    "colab_type": "text",
    "id": "chymwgvAoGP9"
   },
   "source": [
    "# Lesson2:  Collection"
   ]
  },
  {
   "cell_type": "markdown",
   "metadata": {
    "colab_type": "text",
    "id": "2iIcfuKHoSog"
   },
   "source": [
    "## Lesson 2.1 Determine the operational characteristics of the collection system"
   ]
  },
  {
   "cell_type": "markdown",
   "metadata": {
    "colab_type": "text",
    "id": "8oYv9z6P6Ukj"
   },
   "source": [
    "### Data Ingestion Concepts"
   ]
  },
  {
   "cell_type": "markdown",
   "metadata": {
    "colab_type": "text",
    "id": "v7OC_Fh5QV9A"
   },
   "source": [
    "#### Data Lakes"
   ]
  },
  {
   "cell_type": "markdown",
   "metadata": {
    "colab_type": "text",
    "id": "Nt6VTvFVQb-D"
   },
   "source": [
    "**Central Repository** for all data at any scale"
   ]
  },
  {
   "cell_type": "markdown",
   "metadata": {
    "colab_type": "text",
    "id": "8iyQzWR3amgh"
   },
   "source": [
    "![data_lake](https://user-images.githubusercontent.com/58792/49777724-8aef8300-fcb6-11e8-981e-96d14498a801.png)"
   ]
  },
  {
   "cell_type": "markdown",
   "metadata": {
    "colab_type": "text",
    "id": "DJxHWoBmcY_4"
   },
   "source": [
    "#### AWS Lake Formation"
   ]
  },
  {
   "cell_type": "markdown",
   "metadata": {
    "colab_type": "text",
    "id": "X5iz82w_dCJ_"
   },
   "source": [
    "* New Service Announced at Reinvent 2018\n",
    "* Build a secure lake in days...**not months**\n",
    "* Enforce security policies\n",
    "* Gain and manage insights"
   ]
  },
  {
   "cell_type": "markdown",
   "metadata": {
    "colab_type": "text",
    "id": "4GwDZDvXchGJ"
   },
   "source": [
    "![aws_lake](https://user-images.githubusercontent.com/58792/49777834-f9ccdc00-fcb6-11e8-84a0-7295a0c69a15.png)"
   ]
  },
  {
   "cell_type": "markdown",
   "metadata": {
    "colab_type": "text",
    "id": "WESUX507e4jg"
   },
   "source": [
    "#### AWS Batch (BATCH)"
   ]
  },
  {
   "cell_type": "markdown",
   "metadata": {
    "colab_type": "text",
    "id": "lk-T-dSsfHC0"
   },
   "source": [
    "Example could be Financial Service Trade Analysis"
   ]
  },
  {
   "cell_type": "markdown",
   "metadata": {
    "colab_type": "text",
    "id": "AQfrQvV7h2IA"
   },
   "source": [
    "![financial_services_trade](https://user-images.githubusercontent.com/58792/49778503-64334b80-fcba-11e8-85e7-dcdbfe473cd9.png)"
   ]
  },
  {
   "cell_type": "markdown",
   "metadata": {
    "colab_type": "text",
    "id": "bDlM65z5nM0i"
   },
   "source": [
    "#### Using AWS Batch for ML Jobs\n",
    "\n",
    "* *[Watch Video Lesson 11.6:  Use AWS Batch for ML Jobs](https://www.safaribooksonline.com/videos/essential-machine-learning/9780135261118/9780135261118-EMLA_01_11_06)*\n"
   ]
  },
  {
   "cell_type": "markdown",
   "metadata": {
    "colab_type": "text",
    "id": "gn6fah4M4Sa1"
   },
   "source": [
    "https://aws.amazon.com/batch/\n",
    "\n",
    "![alt text](https://d1.awsstatic.com/Test%20Images/Kate%20Test%20Images/Dilithium-Diagrams_Visual-Effects-Rendering.ad9c0479c3772c67953e96ef8ae76a5095373d81.png)\n",
    "\n",
    "\n",
    "Example submissions tool\n",
    "\n",
    "```python\n",
    "@cli.group()\n",
    "def run():\n",
    "    \"\"\"Run AWS Batch\"\"\"\n",
    "\n",
    "@run.command(\"submit\")\n",
    "@click.option(\"--queue\", default=\"first-run-job-queue\", help=\"Batch Queue\")\n",
    "@click.option(\"--jobname\", default=\"1\", help=\"Name of Job\")\n",
    "@click.option(\"--jobdef\", default=\"test\", help=\"Job Definition\")\n",
    "@click.option(\"--cmd\", default=[\"uname\"], help=\"Container Override Commands\")\n",
    "def submit(queue, jobname, jobdef, cmd):\n",
    "    \"\"\"Submit a job\"\"\"\n",
    "\n",
    "    result = submit_job(\n",
    "        job_name=jobname,\n",
    "        job_queue=queue,\n",
    "        job_definition=jobdef,\n",
    "        command=cmd\n",
    "    )\n",
    "    click.echo(\"CLI:  Run Job Called\")\n",
    "    return result\n",
    "```"
   ]
  },
  {
   "cell_type": "markdown",
   "metadata": {
    "colab_type": "text",
    "id": "ewIs7l_AptvW"
   },
   "source": [
    "#### Lambda (EVENTS)"
   ]
  },
  {
   "cell_type": "markdown",
   "metadata": {
    "colab_type": "text",
    "id": "dX_F3p8ipyJu"
   },
   "source": [
    "\n",
    "* Serverless\n",
    "*   Used in most if not all ML Platforms\n",
    " - DeepLense\n",
    " - Sagemaker\n",
    " - S3 Events\n",
    "\n"
   ]
  },
  {
   "cell_type": "markdown",
   "metadata": {
    "colab_type": "text",
    "id": "PlVk0ly3m8SH"
   },
   "source": [
    "#### Starting development with AWS Python Lambda development with Chalice\n",
    "\n",
    "* *[Watch Video Lesson 11.3:  Use AWS Lambda development with Chalice](https://www.safaribooksonline.com/videos/essential-machine-learning/9780135261118/9780135261118-EMLA_01_11_03)*\n",
    "\n"
   ]
  },
  {
   "cell_type": "markdown",
   "metadata": {
    "colab_type": "text",
    "id": "RS4-D7b72XwE"
   },
   "source": [
    "***Demo on Sagemaker Terminal***\n",
    "\n",
    "https://github.com/aws/chalice\n",
    "\n",
    "*Hello World Example:*\n",
    "\n",
    "```python\n",
    "$ pip install chalice\n",
    "$ chalice new-project helloworld && cd helloworld\n",
    "$ cat app.py\n",
    "\n",
    "from chalice import Chalice\n",
    "\n",
    "app = Chalice(app_name=\"helloworld\")\n",
    "\n",
    "@app.route(\"/\")\n",
    "def index():\n",
    "    return {\"hello\": \"world\"}\n",
    "\n",
    "$ chalice deploy\n",
    "...\n",
    "https://endpoint/dev\n",
    "\n",
    "$ curl https://endpoint/api\n",
    "{\"hello\": \"world\"}\n",
    "```\n",
    "\n",
    "References:\n",
    "\n",
    "[Serverless Web Scraping Project](https://github.com/noahgift/web_scraping_python)"
   ]
  },
  {
   "cell_type": "markdown",
   "metadata": {
    "colab_type": "text",
    "id": "oWeNDZCtp6NP"
   },
   "source": [
    "#### [Demo] Deploying Hello World Lambda Function"
   ]
  },
  {
   "cell_type": "markdown",
   "metadata": {
    "colab_type": "text",
    "id": "N8HXfU4GqUcq"
   },
   "source": []
  },
  {
   "cell_type": "markdown",
   "metadata": {
    "colab_type": "text",
    "id": "Hc2I3g2xnH3Y"
   },
   "source": [
    "#### Using Step functions with AWS\n",
    "\n",
    "* *[Watch Video Lesson 11.5:  Use AWS Step Functions](https://www.safaribooksonline.com/videos/essential-machine-learning/9780135261118/9780135261118-EMLA_01_11_05)*"
   ]
  },
  {
   "cell_type": "markdown",
   "metadata": {
    "colab_type": "text",
    "id": "316vRqUj3ELe"
   },
   "source": [
    "https://aws.amazon.com/step-functions/\n",
    "\n",
    "![Step Functions](https://d1.awsstatic.com/product-marketing/Step%20Functions/AmazonCloudWatchUpdated4.a57e968b08739e170aa504feed8db3761de21e60.png)\n",
    "\n",
    "Example Project:\n",
    "\n",
    "https://github.com/noahgift/web_scraping_python"
   ]
  },
  {
   "cell_type": "markdown",
   "metadata": {
    "colab_type": "text",
    "id": "rExHzr2wqYgy"
   },
   "source": [
    "[Demo] Step Function"
   ]
  },
  {
   "cell_type": "markdown",
   "metadata": {
    "colab_type": "text",
    "id": "oHl-TEsdoZ5J"
   },
   "source": []
  },
  {
   "cell_type": "markdown",
   "metadata": {
    "colab_type": "text",
    "id": "SZec7zeooabh"
   },
   "source": [
    "## Lesson 2.2 Select a collection system that handles the frequency of data change and type of data being ingested"
   ]
  },
  {
   "cell_type": "markdown",
   "metadata": {
    "colab_type": "text",
    "id": "UbvGoIR2ofQM"
   },
   "source": []
  },
  {
   "cell_type": "markdown",
   "metadata": {
    "colab_type": "text",
    "id": "qP7Q3bZvoiIR"
   },
   "source": [
    "## Lesson 2.3 Identify the properties that need to be enforced by the collection system: order, data structure, metadata, etc."
   ]
  },
  {
   "cell_type": "markdown",
   "metadata": {
    "colab_type": "text",
    "id": "F9Qu60AjoiL3"
   },
   "source": []
  },
  {
   "cell_type": "markdown",
   "metadata": {
    "colab_type": "text",
    "id": "lmZ7yW7FonZd"
   },
   "source": [
    "## Lesson 2.4 Explain the durability and availability characteristics for the collection approach"
   ]
  },
  {
   "cell_type": "markdown",
   "metadata": {
    "colab_type": "text",
    "id": "KUnc9dM2oncQ"
   },
   "source": []
  },
  {
   "cell_type": "markdown",
   "metadata": {
    "colab_type": "text",
    "id": "ET060N0qos-o"
   },
   "source": [
    "## Lesson 2.5 Learn AWS Kinesis Streams"
   ]
  },
  {
   "cell_type": "markdown",
   "metadata": {
    "colab_type": "text",
    "id": "TweeLlwR9iFR"
   },
   "source": [
    "#### Kinesis Ad Tech Pipeline\n",
    "\n",
    "![Ad Tech Pipeline](https://user-images.githubusercontent.com/58792/49441021-285c2b80-f77a-11e8-82e2-da9006dc4c6d.png)"
   ]
  },
  {
   "cell_type": "markdown",
   "metadata": {
    "colab_type": "text",
    "id": "RSpPmOll9iFO"
   },
   "source": [
    "#### Kinesis IoT\n",
    "\n",
    "![Kinesis IoT](https://user-images.githubusercontent.com/58792/49441101-5e011480-f77a-11e8-9727-4f7706361a08.png)"
   ]
  },
  {
   "cell_type": "markdown",
   "metadata": {
    "colab_type": "text",
    "id": "c69G5pk8Dh7Z"
   },
   "source": [
    "#### Kinesis (STREAMING)"
   ]
  },
  {
   "cell_type": "markdown",
   "metadata": {
    "colab_type": "text",
    "id": "GaH-jrqEIRtp"
   },
   "source": [
    "**Solves Three Key Problems**\n",
    "\n",
    "\n",
    "\n",
    "*   Time-series Analytics\n",
    "*   Real-time Dashboards\n",
    "*   Real-time Metrics\n",
    "\n"
   ]
  },
  {
   "cell_type": "markdown",
   "metadata": {
    "colab_type": "text",
    "id": "1skrZ0TuDpVq"
   },
   "source": [
    "##### Kinesis Analytics Workflow\n",
    "![Kinesis Analytics](https://user-images.githubusercontent.com/58792/49440264-02ce2280-f778-11e8-9d7e-149819e74807.png)"
   ]
  },
  {
   "cell_type": "markdown",
   "metadata": {
    "colab_type": "text",
    "id": "LYQ8rXU-Doab"
   },
   "source": [
    "#### Kinesis Real-Time Log Analytics Example\n",
    "\n",
    "![Real-Time Log Analytics](https://user-images.githubusercontent.com/58792/49440433-7cfea700-f778-11e8-8cd5-55999cb7713c.png)"
   ]
  },
  {
   "cell_type": "markdown",
   "metadata": {
    "colab_type": "text",
    "id": "htJ-ngnWotB8"
   },
   "source": []
  },
  {
   "cell_type": "markdown",
   "metadata": {
    "colab_type": "text",
    "id": "czV9D-QSIJGp"
   },
   "source": [
    "#### [Demo] Kinesis"
   ]
  },
  {
   "cell_type": "markdown",
   "metadata": {
    "colab_type": "text",
    "id": "Vq64AVvuILKx"
   },
   "source": []
  },
  {
   "cell_type": "markdown",
   "metadata": {
    "colab_type": "text",
    "id": "UQ6yU_Ryo-ZB"
   },
   "source": [
    "## Lesson 2.6 Learn AWS Kinesis Firehose"
   ]
  },
  {
   "cell_type": "markdown",
   "metadata": {
    "colab_type": "text",
    "id": "fXpNEXuP6RYH"
   },
   "source": [
    "### Kinesis Features"
   ]
  },
  {
   "cell_type": "markdown",
   "metadata": {
    "colab_type": "text",
    "id": "LV-LMaYT-wuO"
   },
   "source": [
    "[Kinesis FAQ](https://aws.amazon.com/kinesis/data-streams/faqs/)\n",
    "\n",
    "* Processes Data in Real-Time\n",
    "* Can process hundreds of TBs an hour\n",
    "* Example inputs are:  \n",
    " - logs\n",
    " - financial transactions\n",
    " * Streaming Data"
   ]
  },
  {
   "cell_type": "code",
   "execution_count": 0,
   "metadata": {
    "colab": {},
    "colab_type": "code",
    "id": "Tnye93h6h0jn"
   },
   "outputs": [],
   "source": [
    "!pip install -q sensible"
   ]
  },
  {
   "cell_type": "code",
   "execution_count": 0,
   "metadata": {
    "colab": {},
    "colab_type": "code",
    "id": "gCR4VAgV75DC"
   },
   "outputs": [],
   "source": [
    "import boto3\n"
   ]
  },
  {
   "cell_type": "code",
   "execution_count": 0,
   "metadata": {
    "colab": {},
    "colab_type": "code",
    "id": "dQVPZr-c799V"
   },
   "outputs": [],
   "source": [
    "import asyncio\n",
    "import time\n",
    "import datetime\n",
    "import uuid\n",
    "import boto3\n",
    "import json\n",
    "from sensible.loginit import logger\n",
    "\n",
    "LOG = logger(__name__)\n",
    "\n",
    "def firehose_client(region_name=\"us-east-1\"):\n",
    "    \"\"\"Kinesis Firehose client\"\"\"\n",
    "\n",
    "    firehose_conn = boto3.client(\"firehose\", region_name=region_name)\n",
    "    extra_msg = {\"region_name\": region_name, \"aws_service\": \"firehose\"}\n",
    "    LOG.info(\"firehose connection initiated\", extra=extra_msg)\n",
    "    return firehose_conn\n",
    "\n",
    "async def put_record(data,\n",
    "            client,\n",
    "            delivery_stream_name=\"aws-ml-cert\"):\n",
    "    \"\"\"\n",
    "    See this:\n",
    "        http://boto3.readthedocs.io/en/latest/reference/services/\n",
    "        firehose.html#Firehose.Client.put_record\n",
    "    \"\"\"\n",
    "    extra_msg = {\"aws_service\": \"firehose\"}\n",
    "    LOG.info(f\"Pushing record to firehose: {data}\", extra=extra_msg)\n",
    "    response = client.put_record(\n",
    "        DeliveryStreamName=delivery_stream_name,\n",
    "        Record={\n",
    "            'Data': data\n",
    "        }\n",
    "    )\n",
    "    return response\n",
    "\n",
    "\n",
    "def gen_uuid_events():\n",
    "    \"\"\"Creates a time stamped UUID based event\"\"\"\n",
    "\n",
    "    current_time = 'test-{date:%Y-%m-%d %H:%M:%S}'.format(date=datetime.datetime.now())\n",
    "    event_id = str(uuid.uuid4())\n",
    "    event = {event_id:current_time}\n",
    "    return json.dumps(event)\n",
    "\n",
    "def send_async_firehose_events(count=100):\n",
    "    \"\"\"Async sends events to firehose\"\"\"\n",
    "\n",
    "    start = time.time() \n",
    "    client = firehose_client()\n",
    "    extra_msg = {\"aws_service\": \"firehose\"}\n",
    "    loop = asyncio.get_event_loop()\n",
    "    tasks = []\n",
    "    LOG.info(f\"sending aysnc events TOTAL {count}\",extra=extra_msg)\n",
    "    num = 0\n",
    "    for _ in range(count):\n",
    "        tasks.append(asyncio.ensure_future(put_record(gen_uuid_events(), client)))\n",
    "        LOG.info(f\"sending aysnc events: COUNT {num}/{count}\")\n",
    "        num +=1\n",
    "    loop.run_until_complete(asyncio.wait(tasks))\n",
    "    loop.close()\n",
    "    end = time.time()  \n",
    "    LOG.info(\"Total time: {}\".format(end - start))\n",
    "\n"
   ]
  },
  {
   "cell_type": "code",
   "execution_count": 0,
   "metadata": {
    "colab": {
     "base_uri": "https://localhost:8080/",
     "height": 428
    },
    "colab_type": "code",
    "id": "nhWXJvwc8hNp",
    "outputId": "6f5cd3d1-bb57-4381-812e-bd9dfad79071"
   },
   "outputs": [
    {
     "name": "stderr",
     "output_type": "stream",
     "text": [
      "2018-12-14 18:49:58,211 - __main__ - INFO - firehose connection initiated\n",
      "2018-12-14 18:49:58,213 - __main__ - INFO - sending aysnc events TOTAL 10\n",
      "2018-12-14 18:49:58,214 - __main__ - INFO - sending aysnc events: COUNT 0/10\n",
      "2018-12-14 18:49:58,216 - __main__ - INFO - sending aysnc events: COUNT 1/10\n",
      "2018-12-14 18:49:58,220 - __main__ - INFO - sending aysnc events: COUNT 2/10\n",
      "2018-12-14 18:49:58,221 - __main__ - INFO - sending aysnc events: COUNT 3/10\n",
      "2018-12-14 18:49:58,225 - __main__ - INFO - sending aysnc events: COUNT 4/10\n",
      "2018-12-14 18:49:58,228 - __main__ - INFO - sending aysnc events: COUNT 5/10\n",
      "2018-12-14 18:49:58,231 - __main__ - INFO - sending aysnc events: COUNT 6/10\n",
      "2018-12-14 18:49:58,233 - __main__ - INFO - sending aysnc events: COUNT 7/10\n",
      "2018-12-14 18:49:58,236 - __main__ - INFO - sending aysnc events: COUNT 8/10\n",
      "2018-12-14 18:49:58,237 - __main__ - INFO - sending aysnc events: COUNT 9/10\n",
      "2018-12-14 18:49:58,242 - __main__ - INFO - Pushing record to firehose: {\"23bacac0-6eff-410f-b655-a7faa122b68f\": \"test-2018-12-14 18:49:58\"}\n",
      "2018-12-14 18:49:58,364 - __main__ - INFO - Pushing record to firehose: {\"03b15c89-e0a2-46b8-b8d3-cdd71e2ab140\": \"test-2018-12-14 18:49:58\"}\n",
      "2018-12-14 18:49:58,404 - __main__ - INFO - Pushing record to firehose: {\"5ff296d3-f43a-4e69-b61b-624603a354b4\": \"test-2018-12-14 18:49:58\"}\n",
      "2018-12-14 18:49:58,448 - __main__ - INFO - Pushing record to firehose: {\"7ca78179-7ff7-49d1-bd6c-08ca5569737c\": \"test-2018-12-14 18:49:58\"}\n",
      "2018-12-14 18:49:58,486 - __main__ - INFO - Pushing record to firehose: {\"554e587b-2d59-4e4f-95a3-75e4fb129c60\": \"test-2018-12-14 18:49:58\"}\n",
      "2018-12-14 18:49:58,511 - __main__ - INFO - Pushing record to firehose: {\"30532d9e-6f3a-4366-b6ab-3bf9291c4e0b\": \"test-2018-12-14 18:49:58\"}\n",
      "2018-12-14 18:49:58,548 - __main__ - INFO - Pushing record to firehose: {\"99cdff7d-32d1-424b-886e-9e93bb5e5a03\": \"test-2018-12-14 18:49:58\"}\n",
      "2018-12-14 18:49:58,575 - __main__ - INFO - Pushing record to firehose: {\"8ea0c709-a8a5-4bde-9454-c6dd5691d58a\": \"test-2018-12-14 18:49:58\"}\n",
      "2018-12-14 18:49:58,610 - __main__ - INFO - Pushing record to firehose: {\"99ce9671-7971-415c-9c64-ac2c82f9f478\": \"test-2018-12-14 18:49:58\"}\n",
      "2018-12-14 18:49:58,643 - __main__ - INFO - Pushing record to firehose: {\"dc515833-8474-4377-9514-0f6d6fcfa403\": \"test-2018-12-14 18:49:58\"}\n",
      "2018-12-14 18:49:58,677 - __main__ - INFO - Total time: 0.5094583034515381\n"
     ]
    }
   ],
   "source": [
    "send_async_firehose_events(10)"
   ]
  },
  {
   "cell_type": "markdown",
   "metadata": {
    "colab_type": "text",
    "id": "u106eYBmo-cc"
   },
   "source": []
  },
  {
   "cell_type": "markdown",
   "metadata": {
    "colab_type": "text",
    "id": "c-kI49DvpDN9"
   },
   "source": [
    "## Lesson 2.7 Use SQS"
   ]
  },
  {
   "cell_type": "markdown",
   "metadata": {
    "colab_type": "text",
    "id": "PbbEnGH3pDRC"
   },
   "source": []
  },
  {
   "cell_type": "markdown",
   "metadata": {
    "colab_type": "text",
    "id": "oj_ilFnIpIOa"
   },
   "source": [
    "## Lesson 2.8 Create Data Pipelines"
   ]
  },
  {
   "cell_type": "markdown",
   "metadata": {
    "colab_type": "text",
    "id": "uRJ77H4YpIRJ"
   },
   "source": []
  }
 ],
 "metadata": {
  "colab": {
   "collapsed_sections": [
    "c_Id55m6Jsbu",
    "2iIcfuKHoSog",
    "v7OC_Fh5QV9A",
    "DJxHWoBmcY_4",
    "WESUX507e4jg",
    "bDlM65z5nM0i",
    "ewIs7l_AptvW",
    "PlVk0ly3m8SH",
    "oWeNDZCtp6NP",
    "Hc2I3g2xnH3Y",
    "ET060N0qos-o",
    "c69G5pk8Dh7Z",
    "LYQ8rXU-Doab",
    "czV9D-QSIJGp",
    "UQ6yU_Ryo-ZB",
    "fXpNEXuP6RYH"
   ],
   "include_colab_link": true,
   "name": "Lesson2-AWS-Big-Data-Collection.ipynb",
   "provenance": [],
   "version": "0.3.2"
  },
  "kernelspec": {
   "display_name": "Python 3",
   "language": "python",
   "name": "python3"
  },
  "language_info": {
   "codemirror_mode": {
    "name": "ipython",
    "version": 3
   },
   "file_extension": ".py",
   "mimetype": "text/x-python",
   "name": "python",
   "nbconvert_exporter": "python",
   "pygments_lexer": "ipython3",
   "version": "3.7.3"
  }
 },
 "nbformat": 4,
 "nbformat_minor": 1
}
