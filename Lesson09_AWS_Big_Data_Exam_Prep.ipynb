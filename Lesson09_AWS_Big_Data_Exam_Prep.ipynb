{
 "cells": [
  {
   "cell_type": "markdown",
   "metadata": {
    "colab_type": "text",
    "id": "view-in-github"
   },
   "source": [
    "<a href=\"https://colab.research.google.com/github/paiml/awsbigdata/blob/master/Lesson9_AWS_Big_Data_Exam_Prep.ipynb\" target=\"_parent\"><img src=\"https://colab.research.google.com/assets/colab-badge.svg\" alt=\"Open In Colab\"/></a>"
   ]
  },
  {
   "cell_type": "markdown",
   "metadata": {
    "colab_type": "text",
    "id": "Wy6nhdcaVsCH"
   },
   "source": [
    "# Lesson 9 Exam Prep"
   ]
  },
  {
   "cell_type": "markdown",
   "metadata": {
    "colab_type": "text",
    "id": "IdrxEbJvoqQN"
   },
   "source": [
    "## 4.1 Identify the appropriate data processing technology for a given scenario\n"
   ]
  },
  {
   "cell_type": "markdown",
   "metadata": {
    "colab_type": "text",
    "id": "CyW2ZhrxowNv"
   },
   "source": [
    "### Big Data Processing Technologies\n",
    "\n",
    "![Big Data Processing](https://user-images.githubusercontent.com/58792/54287663-54e6c700-4563-11e9-9f60-441302bbc929.png)"
   ]
  },
  {
   "cell_type": "markdown",
   "metadata": {
    "colab_type": "text",
    "id": "HiWIU44fjyfZ"
   },
   "source": [
    "### Real World Data Engineering\n",
    "\n",
    "![Data Engineering Example](https://user-images.githubusercontent.com/58792/54398331-d713e000-4676-11e9-9239-4ec35a250734.png)"
   ]
  },
  {
   "cell_type": "markdown",
   "metadata": {
    "colab_type": "text",
    "id": "k4V3F0bhowQ_"
   },
   "source": [
    "## 4.2 Determine how to design and architect the data processing solution"
   ]
  },
  {
   "cell_type": "markdown",
   "metadata": {
    "colab_type": "text",
    "id": "tWsoko-eo0g_"
   },
   "source": [
    "### Overview\n",
    "\n",
    "![feedback loop](https://user-images.githubusercontent.com/58792/54288887-75178580-4565-11e9-8a5c-ba6929012222.png)"
   ]
  },
  {
   "cell_type": "markdown",
   "metadata": {
    "colab_type": "text",
    "id": "zty7ydffo0j6"
   },
   "source": [
    "## 4.3 Determine the operational characteristics of the solution implemented"
   ]
  },
  {
   "cell_type": "markdown",
   "metadata": {
    "colab_type": "text",
    "id": "RujUaBmBo0m-"
   },
   "source": []
  },
  {
   "cell_type": "markdown",
   "metadata": {
    "colab_type": "text",
    "id": "-7R3yc49o0qB"
   },
   "source": [
    "## 4.4 Understand Overview of AWS Processing"
   ]
  },
  {
   "cell_type": "markdown",
   "metadata": {
    "colab_type": "text",
    "id": "eHxMdw5Mvy1a"
   },
   "source": [
    "### Overview\n",
    "![processing](https://user-images.githubusercontent.com/58792/54293313-fb839580-456c-11e9-848a-b47bdd309430.png)"
   ]
  },
  {
   "cell_type": "markdown",
   "metadata": {
    "colab_type": "text",
    "id": "vDPvXKnZo0wu"
   },
   "source": [
    "## 4.5 Understand Elastic MapReduce (EMR)"
   ]
  },
  {
   "cell_type": "markdown",
   "metadata": {
    "colab_type": "text",
    "id": "mWLdPK77o0zw"
   },
   "source": []
  },
  {
   "cell_type": "markdown",
   "metadata": {
    "colab_type": "text",
    "id": "GbNGsd8ro02q"
   },
   "source": [
    "## 4.6 Learn about Apache Hadoop - Intro"
   ]
  },
  {
   "cell_type": "markdown",
   "metadata": {
    "colab_type": "text",
    "id": "XRlsLGLJo05e"
   },
   "source": []
  },
  {
   "cell_type": "markdown",
   "metadata": {
    "colab_type": "text",
    "id": "RnV_aoluo-Eu"
   },
   "source": [
    "## 4.7 Apply EMR - Architecture"
   ]
  },
  {
   "cell_type": "markdown",
   "metadata": {
    "colab_type": "text",
    "id": "lrCT2tkIo-H3"
   },
   "source": []
  },
  {
   "cell_type": "markdown",
   "metadata": {
    "colab_type": "text",
    "id": "XkORPI0eo-Ng"
   },
   "source": [
    "## 4.8 Understand EMR - Operations"
   ]
  },
  {
   "cell_type": "markdown",
   "metadata": {
    "colab_type": "text",
    "id": "d1ACakrvo-Qu"
   },
   "source": []
  },
  {
   "cell_type": "markdown",
   "metadata": {
    "colab_type": "text",
    "id": "PVmn8qQeo-Tr"
   },
   "source": [
    "## 4.9 Use EMR - Hive\n",
    "\n"
   ]
  },
  {
   "cell_type": "markdown",
   "metadata": {
    "colab_type": "text",
    "id": "Lsot1OAjo-XD"
   },
   "source": []
  },
  {
   "cell_type": "markdown",
   "metadata": {
    "colab_type": "text",
    "id": "i--k5E2oo-Z7"
   },
   "source": [
    "## 4.10 Use EMR - Hbase\n"
   ]
  },
  {
   "cell_type": "markdown",
   "metadata": {
    "colab_type": "text",
    "id": "3Z7Bxbk0o-c6"
   },
   "source": []
  },
  {
   "cell_type": "markdown",
   "metadata": {
    "colab_type": "text",
    "id": "rhVUSKhWpOME"
   },
   "source": [
    "## 4.11 Use EMR - Presto\n"
   ]
  },
  {
   "cell_type": "markdown",
   "metadata": {
    "colab_type": "text",
    "id": "s6awB8dwpOPR"
   },
   "source": []
  },
  {
   "cell_type": "markdown",
   "metadata": {
    "colab_type": "text",
    "id": "c3KHfDNjpOSh"
   },
   "source": [
    "## 4.12 Use EMR - Spark\n"
   ]
  },
  {
   "cell_type": "markdown",
   "metadata": {
    "colab_type": "text",
    "id": "jdkqygRUpV-e"
   },
   "source": []
  },
  {
   "cell_type": "markdown",
   "metadata": {
    "colab_type": "text",
    "id": "DiPXUDZFpWBs"
   },
   "source": [
    "## 4.13 Implement EMR - Storage & Compression\n"
   ]
  },
  {
   "cell_type": "markdown",
   "metadata": {
    "colab_type": "text",
    "id": "Q89o0eZypWEi"
   },
   "source": []
  },
  {
   "cell_type": "markdown",
   "metadata": {
    "colab_type": "text",
    "id": "whVq6K7NpZQa"
   },
   "source": [
    "## 4.14 Implement EMR - Lambda"
   ]
  },
  {
   "cell_type": "markdown",
   "metadata": {
    "colab_type": "text",
    "id": "_FFOIA3NpbTR"
   },
   "source": []
  }
 ],
 "metadata": {
  "colab": {
   "collapsed_sections": [],
   "include_colab_link": true,
   "name": "Lesson9-AWS-Big-Data-Exam-Prep.ipynb",
   "provenance": [],
   "version": "0.3.2"
  },
  "kernelspec": {
   "display_name": "Python 3",
   "language": "python",
   "name": "python3"
  },
  "language_info": {
   "codemirror_mode": {
    "name": "ipython",
    "version": 3
   },
   "file_extension": ".py",
   "mimetype": "text/x-python",
   "name": "python",
   "nbconvert_exporter": "python",
   "pygments_lexer": "ipython3",
   "version": "3.7.3"
  }
 },
 "nbformat": 4,
 "nbformat_minor": 1
}
