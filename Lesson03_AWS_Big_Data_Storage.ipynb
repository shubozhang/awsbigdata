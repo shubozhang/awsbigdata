{
 "cells": [
  {
   "cell_type": "markdown",
   "metadata": {
    "colab_type": "text",
    "id": "view-in-github"
   },
   "source": [
    "<a href=\"https://colab.research.google.com/github/paiml/awsbigdata/blob/master/Lesson3_AWS_Big_Data_Storage.ipynb\" target=\"_parent\"><img src=\"https://colab.research.google.com/assets/colab-badge.svg\" alt=\"Open In Colab\"/></a>"
   ]
  },
  {
   "cell_type": "markdown",
   "metadata": {
    "colab_type": "text",
    "id": "Wy6nhdcaVsCH"
   },
   "source": [
    "# Lesson 3 Storage"
   ]
  },
  {
   "cell_type": "markdown",
   "metadata": {
    "colab_type": "text",
    "id": "r_krRv5Neq45"
   },
   "source": [
    "## 3.1 Determine and optimize the operational characteristics of the storage solution"
   ]
  },
  {
   "cell_type": "markdown",
   "metadata": {
    "colab_type": "text",
    "id": "lDU5UzzJTUb-"
   },
   "source": [
    "### The Three \"Vs\" of Big Data:  Variety, Velocity and Volume\n",
    "\n",
    "![Big Data Challenges](https://user-images.githubusercontent.com/58792/54285644-98d7cd00-455f-11e9-823d-ee6fe85af26e.png)"
   ]
  },
  {
   "cell_type": "markdown",
   "metadata": {
    "colab_type": "text",
    "id": "YI6eo-tXTVxI"
   },
   "source": [
    "#### Variety\n"
   ]
  },
  {
   "cell_type": "markdown",
   "metadata": {
    "colab_type": "text",
    "id": "NAnZKI1gUEeO"
   },
   "source": []
  },
  {
   "cell_type": "markdown",
   "metadata": {
    "colab_type": "text",
    "id": "LbKgvoELT_tw"
   },
   "source": [
    "#### Velocity"
   ]
  },
  {
   "cell_type": "markdown",
   "metadata": {
    "colab_type": "text",
    "id": "R5IemZ6QUFId"
   },
   "source": []
  },
  {
   "cell_type": "markdown",
   "metadata": {
    "colab_type": "text",
    "id": "jjzxWHz6UCkS"
   },
   "source": [
    "#### Volume"
   ]
  },
  {
   "cell_type": "markdown",
   "metadata": {
    "colab_type": "text",
    "id": "XsQc7VhlUFrd"
   },
   "source": []
  },
  {
   "cell_type": "markdown",
   "metadata": {
    "colab_type": "text",
    "id": "_t6aCbsNfK9-"
   },
   "source": [
    "## 3.2 Determine data access and retrieval patterns "
   ]
  },
  {
   "cell_type": "markdown",
   "metadata": {
    "colab_type": "text",
    "id": "6fhL7WGJ7Scv"
   },
   "source": [
    "### Batch vs Streaming Data"
   ]
  },
  {
   "cell_type": "markdown",
   "metadata": {
    "colab_type": "text",
    "id": "5U8QWB0mEH7m"
   },
   "source": [
    "#### Impact on ML Pipeline"
   ]
  },
  {
   "cell_type": "markdown",
   "metadata": {
    "colab_type": "text",
    "id": "qxGzIx74EK0W"
   },
   "source": [
    "* More control of model training in batch (can decide when to retrain)\n",
    "* Continuously retraining model could provide better prediction results or worse results\n",
    " - Did input stream suddenly get more users or less users?\n",
    " - Is there an A/B testing scenario?"
   ]
  },
  {
   "cell_type": "markdown",
   "metadata": {
    "colab_type": "text",
    "id": "iG_FBgbY6vqH"
   },
   "source": [
    "#### Batch"
   ]
  },
  {
   "cell_type": "markdown",
   "metadata": {
    "colab_type": "text",
    "id": "wdJonIVdAfaw"
   },
   "source": [
    "*   Data is batched at intervals\n",
    "*   Simplest approach to create predictions\n",
    "*   Many Services on AWS Capable of Batch Processing\n",
    " - AWS Glue\n",
    " - AWS Data Pipeline\n",
    " - AWS Batch\n",
    " - EMR\n",
    "\n",
    "\n",
    "\n"
   ]
  },
  {
   "cell_type": "markdown",
   "metadata": {
    "colab_type": "text",
    "id": "M22l9fGmApsu"
   },
   "source": [
    "#### Streaming\n"
   ]
  },
  {
   "cell_type": "markdown",
   "metadata": {
    "colab_type": "text",
    "id": "UsVFF-9NAr-H"
   },
   "source": [
    "* Continously polled or pushed\n",
    "* More complex method of prediction\n",
    "* Many Services on AWS Capable of Streaming\n",
    " - Kinesis\n",
    " - IoT"
   ]
  },
  {
   "cell_type": "markdown",
   "metadata": {
    "colab_type": "text",
    "id": "xQZatdK8fO0b"
   },
   "source": []
  },
  {
   "cell_type": "markdown",
   "metadata": {
    "colab_type": "text",
    "id": "cQWaXVDmfO3s"
   },
   "source": [
    "## 3.3 Evaluate mechanisms for capture, update, and retrieval of catalog entries"
   ]
  },
  {
   "cell_type": "markdown",
   "metadata": {
    "colab_type": "text",
    "id": "GEkBM0-ff1id"
   },
   "source": [
    "[Omnigraffle or Whiteboard Demo]"
   ]
  },
  {
   "cell_type": "markdown",
   "metadata": {
    "colab_type": "text",
    "id": "ZzZvEDG_f1lv"
   },
   "source": [
    "## 3.4 Determine appropriate data structure and storage format "
   ]
  },
  {
   "cell_type": "markdown",
   "metadata": {
    "colab_type": "text",
    "id": "zDWHKEfWf1oi"
   },
   "source": [
    "[Omnigraffle or Whiteboard Demo]"
   ]
  },
  {
   "cell_type": "markdown",
   "metadata": {
    "colab_type": "text",
    "id": "d7xUnqTBjjjD"
   },
   "source": [
    "## 3.5 Understand Storage & Database Fundamentals "
   ]
  },
  {
   "cell_type": "markdown",
   "metadata": {
    "colab_type": "text",
    "id": "pNkmKQ6m627N"
   },
   "source": [
    "### Data Storage Concepts"
   ]
  },
  {
   "cell_type": "markdown",
   "metadata": {
    "colab_type": "text",
    "id": "fYH_66i97RoN"
   },
   "source": [
    "#### Database Overview\n",
    "\n"
   ]
  },
  {
   "cell_type": "markdown",
   "metadata": {
    "colab_type": "text",
    "id": "DHXy69aAJbDn"
   },
   "source": [
    "![Database Styles](https://user-images.githubusercontent.com/58792/48925585-2214a800-ee7a-11e8-8546-767177679328.png)\n",
    "\n",
    "* [One size database doesn't fit anyone](https://www.allthingsdistributed.com/2018/06/purpose-built-databases-in-aws.html)"
   ]
  },
  {
   "cell_type": "markdown",
   "metadata": {
    "colab_type": "text",
    "id": "hssoSYvFjnx-"
   },
   "source": [
    "## 3.6 Learn S3 - storage"
   ]
  },
  {
   "cell_type": "markdown",
   "metadata": {
    "colab_type": "text",
    "id": "ZkpCT3vajq_v"
   },
   "source": [
    "[Demo]"
   ]
  },
  {
   "cell_type": "markdown",
   "metadata": {
    "colab_type": "text",
    "id": "Zb9m-Jg8jrHk"
   },
   "source": [
    "## 3.7 Understand Glacier - backup & archive"
   ]
  },
  {
   "cell_type": "markdown",
   "metadata": {
    "colab_type": "text",
    "id": "ls4EPhdMjrOz"
   },
   "source": [
    "[Demo]"
   ]
  },
  {
   "cell_type": "markdown",
   "metadata": {
    "colab_type": "text",
    "id": "YrdH2MLEjrTU"
   },
   "source": [
    "## 3.8 Create AWS Glue - data catalog"
   ]
  },
  {
   "cell_type": "markdown",
   "metadata": {
    "colab_type": "text",
    "id": "6t1wD_-57Q3t"
   },
   "source": [
    "### AWS Glue"
   ]
  },
  {
   "cell_type": "markdown",
   "metadata": {
    "colab_type": "text",
    "id": "_WgVemLat0d6"
   },
   "source": [
    "#### AWS Glue is fully managed ETL Service"
   ]
  },
  {
   "cell_type": "markdown",
   "metadata": {
    "colab_type": "text",
    "id": "u8jPN7MZLIsn"
   },
   "source": [
    "\n",
    "\n",
    "![AWS Glue Screen](https://user-images.githubusercontent.com/58792/49441953-dff23d00-f77c-11e8-9065-dab53c47c345.png)"
   ]
  },
  {
   "cell_type": "markdown",
   "metadata": {
    "colab_type": "text",
    "id": "qZkC2QC-MRiS"
   },
   "source": [
    "#### AWS Glue Workflow"
   ]
  },
  {
   "cell_type": "markdown",
   "metadata": {
    "colab_type": "text",
    "id": "GuJTGk5GMbZn"
   },
   "source": [
    "\n",
    "\n",
    "*   Build Data Catalog\n",
    "*   Generate and Edit Transformations\n",
    "*   Schedule and Run Jobs\n",
    "\n"
   ]
  },
  {
   "cell_type": "markdown",
   "metadata": {
    "colab_type": "text",
    "id": "VdheVbrOeWxk"
   },
   "source": [
    "#### [DEMO] AWS Glue"
   ]
  },
  {
   "cell_type": "markdown",
   "metadata": {
    "colab_type": "text",
    "id": "XGLxtZlrebR0"
   },
   "source": []
  },
  {
   "cell_type": "markdown",
   "metadata": {
    "colab_type": "text",
    "id": "9bE8Z_G2jw-6"
   },
   "source": [
    "## 3.9 Use Dynamodb "
   ]
  },
  {
   "cell_type": "markdown",
   "metadata": {
    "colab_type": "text",
    "id": "q7B3KpSfnCYo"
   },
   "source": [
    "#### Using AWS DynamoDB\n",
    "\n",
    "* *[Watch Video Lesson 11.4:  Use AWS DynamoDB](https://www.safaribooksonline.com/videos/essential-machine-learning/9780135261118/9780135261118-EMLA_01_11_04)*"
   ]
  },
  {
   "cell_type": "markdown",
   "metadata": {
    "colab_type": "text",
    "id": "2cheDvcB2x02"
   },
   "source": [
    "https://aws.amazon.com/dynamodb/\n",
    "\n",
    "![alt text](https://d1.awsstatic.com/video-thumbs/dynamodb/AWS-online-games-wide.ada4247744e9be9a6d857b2e13b7eb78b18bf3a5.png)\n",
    "\n",
    "Query Example:\n",
    "\n",
    "```python\n",
    "def query_police_department_record_by_guid(guid):\n",
    "    \"\"\"Gets one record in the PD table by guid\n",
    "    \n",
    "    In [5]: rec = query_police_department_record_by_guid(\n",
    "        \"7e607b82-9e18-49dc-a9d7-e9628a9147ad\"\n",
    "        )\n",
    "    \n",
    "    In [7]: rec\n",
    "    Out[7]: \n",
    "    {'PoliceDepartmentName': 'Hollister',\n",
    "     'UpdateTime': 'Fri Mar  2 12:43:43 2018',\n",
    "     'guid': '7e607b82-9e18-49dc-a9d7-e9628a9147ad'}\n",
    "    \"\"\"\n",
    "    \n",
    "    db = dynamodb_resource()\n",
    "    extra_msg = {\"region_name\": REGION, \"aws_service\": \"dynamodb\", \n",
    "        \"police_department_table\":POLICE_DEPARTMENTS_TABLE,\n",
    "        \"guid\":guid}\n",
    "    log.info(f\"Get PD record by GUID\", extra=extra_msg)\n",
    "    pd_table = db.Table(POLICE_DEPARTMENTS_TABLE)\n",
    "    response = pd_table.get_item(\n",
    "        Key={\n",
    "            'guid': guid\n",
    "            }\n",
    "    )\n",
    "    return response['Item']\n",
    "```\n"
   ]
  },
  {
   "cell_type": "markdown",
   "metadata": {
    "colab_type": "text",
    "id": "21TwDX8Kjw8V"
   },
   "source": []
  },
  {
   "cell_type": "markdown",
   "metadata": {
    "colab_type": "text",
    "id": "uE_KQNBWuDeZ"
   },
   "source": [
    "### Case Study DynamoDB"
   ]
  },
  {
   "cell_type": "markdown",
   "metadata": {
    "colab_type": "text",
    "id": "7b0c3LDzuPGE"
   },
   "source": [
    "![casestudy](https://user-images.githubusercontent.com/58792/55354483-bae7af80-547a-11e9-9909-a5621251065b.png)"
   ]
  },
  {
   "cell_type": "markdown",
   "metadata": {
    "colab_type": "text",
    "id": "gUMlly9JFYQ9"
   },
   "source": [
    "#### [Demo] DynamoDB"
   ]
  },
  {
   "cell_type": "markdown",
   "metadata": {
    "colab_type": "text",
    "id": "G1SgzvGTFcCY"
   },
   "source": []
  }
 ],
 "metadata": {
  "colab": {
   "collapsed_sections": [
    "c_Id55m6Jsbu",
    "_WgVemLat0d6",
    "qZkC2QC-MRiS",
    "uE_KQNBWuDeZ"
   ],
   "include_colab_link": true,
   "name": "Lesson3-AWS-Big-Data-Storage.ipynb",
   "provenance": [],
   "version": "0.3.2"
  },
  "kernelspec": {
   "display_name": "Python 3",
   "language": "python",
   "name": "python3"
  },
  "language_info": {
   "codemirror_mode": {
    "name": "ipython",
    "version": 3
   },
   "file_extension": ".py",
   "mimetype": "text/x-python",
   "name": "python",
   "nbconvert_exporter": "python",
   "pygments_lexer": "ipython3",
   "version": "3.7.3"
  }
 },
 "nbformat": 4,
 "nbformat_minor": 1
}
