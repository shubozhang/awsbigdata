{
 "cells": [
  {
   "cell_type": "markdown",
   "metadata": {
    "colab_type": "text",
    "id": "view-in-github"
   },
   "source": [
    "<a href=\"https://colab.research.google.com/github/paiml/awsbigdata/blob/master/Lesson1_AWS_Big_Data_Introduction.ipynb\" target=\"_parent\"><img src=\"https://colab.research.google.com/assets/colab-badge.svg\" alt=\"Open In Colab\"/></a>"
   ]
  },
  {
   "cell_type": "markdown",
   "metadata": {
    "colab_type": "text",
    "id": "chymwgvAoGP9"
   },
   "source": [
    "# Lesson1:  Introduction"
   ]
  },
  {
   "cell_type": "markdown",
   "metadata": {
    "colab_type": "text",
    "id": "2iIcfuKHoSog"
   },
   "source": [
    "## Lesson 1.1  Intro & Learn the answer to “What is Big Data?”"
   ]
  },
  {
   "cell_type": "markdown",
   "metadata": {
    "colab_type": "text",
    "id": "r-tqIMzyTcgn"
   },
   "source": [
    "\n",
    "![Big Data Challenges](https://user-images.githubusercontent.com/58792/54285644-98d7cd00-455f-11e9-823d-ee6fe85af26e.png)"
   ]
  },
  {
   "cell_type": "markdown",
   "metadata": {
    "colab_type": "text",
    "id": "oHl-TEsdoZ5J"
   },
   "source": [
    "### Volume"
   ]
  },
  {
   "cell_type": "markdown",
   "metadata": {
    "colab_type": "text",
    "id": "uaVFeUNvTKKq"
   },
   "source": [
    "### Velocity"
   ]
  },
  {
   "cell_type": "markdown",
   "metadata": {
    "colab_type": "text",
    "id": "8FezY4u_TM1I"
   },
   "source": [
    "### Variety\n"
   ]
  },
  {
   "cell_type": "markdown",
   "metadata": {
    "colab_type": "text",
    "id": "mt-OXA90TPff"
   },
   "source": [
    "### Veracity\n"
   ]
  },
  {
   "cell_type": "markdown",
   "metadata": {
    "colab_type": "text",
    "id": "b_Xdp6y-TZtQ"
   },
   "source": [
    "### Value"
   ]
  },
  {
   "cell_type": "markdown",
   "metadata": {
    "colab_type": "text",
    "id": "SZec7zeooabh"
   },
   "source": [
    "## Lesson 1.2 Explore the history of Big Data"
   ]
  },
  {
   "cell_type": "markdown",
   "metadata": {
    "colab_type": "text",
    "id": "UbvGoIR2ofQM"
   },
   "source": [
    "### Term Defined 2001"
   ]
  },
  {
   "cell_type": "markdown",
   "metadata": {
    "colab_type": "text",
    "id": "SAnm1H9cWu7N"
   },
   "source": []
  },
  {
   "cell_type": "markdown",
   "metadata": {
    "colab_type": "text",
    "id": "Xxgl3z-HWxrP"
   },
   "source": [
    "### Film an Early \"Big Data\" Industry"
   ]
  },
  {
   "cell_type": "markdown",
   "metadata": {
    "colab_type": "text",
    "id": "PP2U5cr9XHzC"
   },
   "source": []
  },
  {
   "cell_type": "markdown",
   "metadata": {
    "colab_type": "text",
    "id": "qP7Q3bZvoiIR"
   },
   "source": [
    "## Lesson 1.3 Know AWS Certification: 6 domain areas \n",
    "\n"
   ]
  },
  {
   "cell_type": "markdown",
   "metadata": {
    "colab_type": "text",
    "id": "YUy5dOcxYNco"
   },
   "source": [
    "### 1- Collection"
   ]
  },
  {
   "cell_type": "markdown",
   "metadata": {
    "colab_type": "text",
    "id": "bp2yfBAcYSxp"
   },
   "source": [
    "### 2 - Storage"
   ]
  },
  {
   "cell_type": "markdown",
   "metadata": {
    "colab_type": "text",
    "id": "KyLZLIpprz1u"
   },
   "source": [
    "### 3 - Processing"
   ]
  },
  {
   "cell_type": "markdown",
   "metadata": {
    "colab_type": "text",
    "id": "oEzqB1E7r2YP"
   },
   "source": [
    "### 4- Analysis"
   ]
  },
  {
   "cell_type": "markdown",
   "metadata": {
    "colab_type": "text",
    "id": "sRq_ujUMr62A"
   },
   "source": [
    "### 5- Visualization"
   ]
  },
  {
   "cell_type": "markdown",
   "metadata": {
    "colab_type": "text",
    "id": "Pokei8PzsA0n"
   },
   "source": [
    "### 6- Data Security"
   ]
  },
  {
   "cell_type": "markdown",
   "metadata": {
    "colab_type": "text",
    "id": "lmZ7yW7FonZd"
   },
   "source": [
    "## Lesson 1.4 Understand the AWS Certification Exam-Blueprint"
   ]
  },
  {
   "cell_type": "markdown",
   "metadata": {
    "colab_type": "text",
    "id": "KUnc9dM2oncQ"
   },
   "source": [
    "* [AWS Big Data Exam Guide](https://d1.awsstatic.com/training-and-certification/docs-bigdata-spec/AWS%20Certified%20Big%20Data%20-%20Specialty_Exam%20Guide_v1.3_FINAL.pdf)\n",
    "\n",
    "\n",
    "#### split of approximate # of questions by Domain Area:\n",
    "\n",
    "Collection - worth 17% of the  test, 11 questions about 29 min\n",
    "\n",
    "Storage - also 17% of the  test, 11 questions\n",
    "\n",
    "Processing - same split\n",
    "\n",
    "Analysis - also 17% of the  test, 29 minutes\n",
    "\n",
    "Visualization - the shortest section on the exam:  12% of the exam, about 8 questions\n",
    "\n",
    "Data Security - we said this was important before, and it is.  Data Security is the longest section, 20% of the exam, about 13 questions\n",
    "\n",
    "\n",
    "\n",
    "\n",
    "\n",
    "![Exam Learning Path](https://d1.awsstatic.com/Train%20&%20Cert/Learning%20Paths/path_specialty-ALL.793e6d1c397d70993a0d18b9c627d1f41239802c.png)"
   ]
  },
  {
   "cell_type": "markdown",
   "metadata": {
    "colab_type": "text",
    "id": "ET060N0qos-o"
   },
   "source": [
    "## Lesson 1.5 Learn Exam Strategy"
   ]
  },
  {
   "cell_type": "markdown",
   "metadata": {
    "colab_type": "text",
    "id": "htJ-ngnWotB8"
   },
   "source": []
  },
  {
   "cell_type": "markdown",
   "metadata": {
    "colab_type": "text",
    "id": "UQ6yU_Ryo-ZB"
   },
   "source": [
    "## Lesson 1.6 Identify Focus Areas"
   ]
  },
  {
   "cell_type": "markdown",
   "metadata": {
    "colab_type": "text",
    "id": "u106eYBmo-cc"
   },
   "source": []
  },
  {
   "cell_type": "markdown",
   "metadata": {
    "colab_type": "text",
    "id": "c-kI49DvpDN9"
   },
   "source": [
    "## Lesson 1.7 Learn Tips & Tricks"
   ]
  },
  {
   "cell_type": "markdown",
   "metadata": {
    "colab_type": "text",
    "id": "PbbEnGH3pDRC"
   },
   "source": []
  },
  {
   "cell_type": "markdown",
   "metadata": {
    "colab_type": "text",
    "id": "oj_ilFnIpIOa"
   },
   "source": [
    "## Lesson 1.8 Learn How to register for AWS Certification Exam"
   ]
  },
  {
   "cell_type": "markdown",
   "metadata": {
    "colab_type": "text",
    "id": "uRJ77H4YpIRJ"
   },
   "source": [
    "Link to AWS Registration:  https://www.aws.training/certification?src=bd-spec\n",
    "\n"
   ]
  }
 ],
 "metadata": {
  "colab": {
   "collapsed_sections": [
    "2iIcfuKHoSog",
    "SZec7zeooabh",
    "UbvGoIR2ofQM",
    "Xxgl3z-HWxrP",
    "qP7Q3bZvoiIR",
    "lmZ7yW7FonZd"
   ],
   "include_colab_link": true,
   "name": "Lesson1-AWS-Big-Data-Introduction.ipynb",
   "provenance": [],
   "version": "0.3.2"
  },
  "kernelspec": {
   "display_name": "Python 3",
   "language": "python",
   "name": "python3"
  },
  "language_info": {
   "codemirror_mode": {
    "name": "ipython",
    "version": 3
   },
   "file_extension": ".py",
   "mimetype": "text/x-python",
   "name": "python",
   "nbconvert_exporter": "python",
   "pygments_lexer": "ipython3",
   "version": "3.7.3"
  }
 },
 "nbformat": 4,
 "nbformat_minor": 1
}
